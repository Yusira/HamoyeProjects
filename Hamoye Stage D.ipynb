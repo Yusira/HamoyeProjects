{
 "cells": [
  {
   "cell_type": "code",
   "execution_count": 1,
   "id": "966036fe",
   "metadata": {
    "execution": {
     "iopub.execute_input": "2021-10-25T09:53:52.540542Z",
     "iopub.status.busy": "2021-10-25T09:53:52.539873Z",
     "iopub.status.idle": "2021-10-25T09:53:57.329608Z",
     "shell.execute_reply": "2021-10-25T09:53:57.328974Z",
     "shell.execute_reply.started": "2021-10-25T09:46:13.457351Z"
    },
    "papermill": {
     "duration": 4.812996,
     "end_time": "2021-10-25T09:53:57.329759",
     "exception": false,
     "start_time": "2021-10-25T09:53:52.516763",
     "status": "completed"
    },
    "tags": []
   },
   "outputs": [],
   "source": [
    "from keras.preprocessing.image import ImageDataGenerator\n",
    "from tensorflow.keras.models import Sequential\n",
    "from keras.layers import Dense, Activation, Flatten, Dropout, BatchNormalization\n",
    "from keras.layers import Conv2D, MaxPooling2D\n",
    "from keras import regularizers\n",
    "from tensorflow.keras import optimizers\n",
    "import pandas as pd\n",
    "import numpy as np\n",
    "import matplotlib.pyplot as plt\n",
    "import gc\n",
    "import pickle"
   ]
  },
  {
   "cell_type": "code",
   "execution_count": 2,
   "id": "c6e5e3c1",
   "metadata": {
    "execution": {
     "iopub.execute_input": "2021-10-25T09:53:57.491012Z",
     "iopub.status.busy": "2021-10-25T09:53:57.490447Z",
     "iopub.status.idle": "2021-10-25T09:53:57.496699Z",
     "shell.execute_reply": "2021-10-25T09:53:57.496262Z",
     "shell.execute_reply.started": "2021-10-25T09:51:33.640191Z"
    },
    "papermill": {
     "duration": 0.154127,
     "end_time": "2021-10-25T09:53:57.496822",
     "exception": false,
     "start_time": "2021-10-25T09:53:57.342695",
     "status": "completed"
    },
    "tags": []
   },
   "outputs": [
    {
     "data": {
      "text/plain": [
       "43"
      ]
     },
     "execution_count": 2,
     "metadata": {},
     "output_type": "execute_result"
    }
   ],
   "source": [
    "gc.collect()"
   ]
  },
  {
   "cell_type": "code",
   "execution_count": 3,
   "id": "c6300756",
   "metadata": {
    "execution": {
     "iopub.execute_input": "2021-10-25T09:53:57.527797Z",
     "iopub.status.busy": "2021-10-25T09:53:57.527146Z",
     "iopub.status.idle": "2021-10-25T09:53:57.690361Z",
     "shell.execute_reply": "2021-10-25T09:53:57.689833Z",
     "shell.execute_reply.started": "2021-10-25T09:51:35.822868Z"
    },
    "papermill": {
     "duration": 0.181035,
     "end_time": "2021-10-25T09:53:57.690484",
     "exception": false,
     "start_time": "2021-10-25T09:53:57.509449",
     "status": "completed"
    },
    "tags": []
   },
   "outputs": [],
   "source": [
    "def append_ext(fn):\n",
    "    return fn + \".jpg\"\n",
    "\n",
    "traindf = pd.read_csv('../input/planet-understanding-the-amazon-from-space/train_v2.csv/train_v2.csv', dtype=str)\n",
    "testdf = pd.read_csv('../input/planet-understanding-the-amazon-from-space/sample_submission_v2.csv/sample_submission_v2.csv', dtype=str)\n",
    "\n",
    "traindf[\"image_name\"] = traindf[\"image_name\"].apply(append_ext)\n",
    "testdf[\"image_name\"] = testdf[\"image_name\"].apply(append_ext)\n",
    "\n",
    "datagen = ImageDataGenerator(rescale = 1./255.,\n",
    "                             validation_split = 0.25,\n",
    "                             rotation_range = 10,\n",
    "                             width_shift_range = 0.2,\n",
    "                             height_shift_range = 0.2,\n",
    "                             zoom_range = 0.2,\n",
    "                             horizontal_flip = True,\n",
    "                             brightness_range = [0.2,1.2])"
   ]
  },
  {
   "cell_type": "code",
   "execution_count": 4,
   "id": "3077c9d2",
   "metadata": {
    "execution": {
     "iopub.execute_input": "2021-10-25T09:53:57.722125Z",
     "iopub.status.busy": "2021-10-25T09:53:57.721248Z",
     "iopub.status.idle": "2021-10-25T09:56:06.490563Z",
     "shell.execute_reply": "2021-10-25T09:56:06.491013Z",
     "shell.execute_reply.started": "2021-10-25T09:51:51.515996Z"
    },
    "papermill": {
     "duration": 128.787855,
     "end_time": "2021-10-25T09:56:06.491178",
     "exception": false,
     "start_time": "2021-10-25T09:53:57.703323",
     "status": "completed"
    },
    "tags": []
   },
   "outputs": [
    {
     "name": "stdout",
     "output_type": "stream",
     "text": [
      "Found 30360 validated image filenames belonging to 449 classes.\n",
      "Found 10119 validated image filenames belonging to 449 classes.\n"
     ]
    }
   ],
   "source": [
    "train_generator = datagen.flow_from_dataframe(\n",
    "    dataframe = traindf,\n",
    "    directory = '../input/d/yusira/amazonsatelliteimages/train-jpg/train-jpg',\n",
    "    x_col = 'image_name',\n",
    "    y_col = 'tags',\n",
    "    subset = 'training',\n",
    "    batch_size = 340,\n",
    "    seed = 42,\n",
    "    shuffle = True,\n",
    "    class_mode = 'categorical',\n",
    "    target_size = (32, 32))\n",
    "\n",
    "valid_generator = datagen.flow_from_dataframe(\n",
    "    dataframe = traindf,\n",
    "    directory = '../input/d/yusira/amazonsatelliteimages/train-jpg/train-jpg',\n",
    "    x_col = 'image_name',\n",
    "    y_col = 'tags',\n",
    "    subset = 'validation',\n",
    "    batch_size = 340,\n",
    "    seed = 42,\n",
    "    shuffle = True,\n",
    "    class_mode = 'categorical',\n",
    "    target_size = (32, 32))\n",
    "\n"
   ]
  },
  {
   "cell_type": "code",
   "execution_count": 5,
   "id": "09d04e11",
   "metadata": {
    "execution": {
     "iopub.execute_input": "2021-10-25T09:56:06.523256Z",
     "iopub.status.busy": "2021-10-25T09:56:06.522459Z",
     "iopub.status.idle": "2021-10-25T09:58:44.498032Z",
     "shell.execute_reply": "2021-10-25T09:58:44.497556Z",
     "shell.execute_reply.started": "2021-10-24T09:54:16.623839Z"
    },
    "papermill": {
     "duration": 157.994229,
     "end_time": "2021-10-25T09:58:44.498160",
     "exception": false,
     "start_time": "2021-10-25T09:56:06.503931",
     "status": "completed"
    },
    "tags": []
   },
   "outputs": [
    {
     "name": "stderr",
     "output_type": "stream",
     "text": [
      "/opt/conda/lib/python3.7/site-packages/keras_preprocessing/image/dataframe_iterator.py:282: UserWarning: Found 20522 invalid image filename(s) in x_col=\"image_name\". These filename(s) will be ignored.\n",
      "  .format(n_invalid, x_col)\n"
     ]
    },
    {
     "name": "stdout",
     "output_type": "stream",
     "text": [
      "Found 40669 validated image filenames.\n",
      "Found 20522 validated image filenames.\n"
     ]
    },
    {
     "name": "stderr",
     "output_type": "stream",
     "text": [
      "/opt/conda/lib/python3.7/site-packages/keras_preprocessing/image/dataframe_iterator.py:282: UserWarning: Found 40669 invalid image filename(s) in x_col=\"image_name\". These filename(s) will be ignored.\n",
      "  .format(n_invalid, x_col)\n"
     ]
    }
   ],
   "source": [
    "test_generator = datagen.flow_from_dataframe(\n",
    "    dataframe = testdf,\n",
    "    directory = '../input/d/yusira/amazonsatelliteimages/test-jpg/test-jpg',\n",
    "    x_col = 'image_name',\n",
    "    y_col = None,\n",
    "    batch_size = 340,\n",
    "    seed = 42,\n",
    "    shuffle = False,\n",
    "    class_mode = None,\n",
    "    target_size = (32, 32))\n",
    "\n",
    "test_generator2 = datagen.flow_from_dataframe(\n",
    "    dataframe = testdf,\n",
    "    directory = '../input/d/yusira/amazonsatelliteimages/test-jpg-additional/test-jpg-additional',\n",
    "    x_col = 'image_name',\n",
    "    y_col = None,\n",
    "    batch_size = 340,\n",
    "    seed = 42,\n",
    "    shuffle = False,\n",
    "    class_mode = None,\n",
    "    target_size = (32, 32))"
   ]
  },
  {
   "cell_type": "markdown",
   "id": "c81e1546",
   "metadata": {
    "papermill": {
     "duration": 0.013689,
     "end_time": "2021-10-25T09:58:44.526116",
     "exception": false,
     "start_time": "2021-10-25T09:58:44.512427",
     "status": "completed"
    },
    "tags": []
   },
   "source": [
    "#### building the model"
   ]
  },
  {
   "cell_type": "code",
   "execution_count": 6,
   "id": "ad5b1073",
   "metadata": {
    "execution": {
     "iopub.execute_input": "2021-10-25T09:58:44.569224Z",
     "iopub.status.busy": "2021-10-25T09:58:44.565853Z",
     "iopub.status.idle": "2021-10-25T09:58:47.040681Z",
     "shell.execute_reply": "2021-10-25T09:58:47.041095Z"
    },
    "papermill": {
     "duration": 2.501519,
     "end_time": "2021-10-25T09:58:47.041271",
     "exception": false,
     "start_time": "2021-10-25T09:58:44.539752",
     "status": "completed"
    },
    "tags": []
   },
   "outputs": [
    {
     "name": "stderr",
     "output_type": "stream",
     "text": [
      "2021-10-25 09:58:44.632284: I tensorflow/stream_executor/cuda/cuda_gpu_executor.cc:937] successful NUMA node read from SysFS had negative value (-1), but there must be at least one NUMA node, so returning NUMA node zero\n",
      "2021-10-25 09:58:44.718286: I tensorflow/stream_executor/cuda/cuda_gpu_executor.cc:937] successful NUMA node read from SysFS had negative value (-1), but there must be at least one NUMA node, so returning NUMA node zero\n",
      "2021-10-25 09:58:44.719025: I tensorflow/stream_executor/cuda/cuda_gpu_executor.cc:937] successful NUMA node read from SysFS had negative value (-1), but there must be at least one NUMA node, so returning NUMA node zero\n",
      "2021-10-25 09:58:44.721125: I tensorflow/core/platform/cpu_feature_guard.cc:142] This TensorFlow binary is optimized with oneAPI Deep Neural Network Library (oneDNN) to use the following CPU instructions in performance-critical operations:  AVX2 AVX512F FMA\n",
      "To enable them in other operations, rebuild TensorFlow with the appropriate compiler flags.\n",
      "2021-10-25 09:58:44.722443: I tensorflow/stream_executor/cuda/cuda_gpu_executor.cc:937] successful NUMA node read from SysFS had negative value (-1), but there must be at least one NUMA node, so returning NUMA node zero\n",
      "2021-10-25 09:58:44.723082: I tensorflow/stream_executor/cuda/cuda_gpu_executor.cc:937] successful NUMA node read from SysFS had negative value (-1), but there must be at least one NUMA node, so returning NUMA node zero\n",
      "2021-10-25 09:58:44.723732: I tensorflow/stream_executor/cuda/cuda_gpu_executor.cc:937] successful NUMA node read from SysFS had negative value (-1), but there must be at least one NUMA node, so returning NUMA node zero\n",
      "2021-10-25 09:58:46.541679: I tensorflow/stream_executor/cuda/cuda_gpu_executor.cc:937] successful NUMA node read from SysFS had negative value (-1), but there must be at least one NUMA node, so returning NUMA node zero\n",
      "2021-10-25 09:58:46.542510: I tensorflow/stream_executor/cuda/cuda_gpu_executor.cc:937] successful NUMA node read from SysFS had negative value (-1), but there must be at least one NUMA node, so returning NUMA node zero\n",
      "2021-10-25 09:58:46.543121: I tensorflow/stream_executor/cuda/cuda_gpu_executor.cc:937] successful NUMA node read from SysFS had negative value (-1), but there must be at least one NUMA node, so returning NUMA node zero\n",
      "2021-10-25 09:58:46.543709: I tensorflow/core/common_runtime/gpu/gpu_device.cc:1510] Created device /job:localhost/replica:0/task:0/device:GPU:0 with 15403 MB memory:  -> device: 0, name: Tesla P100-PCIE-16GB, pci bus id: 0000:00:04.0, compute capability: 6.0\n"
     ]
    }
   ],
   "source": [
    "# using the VGG16 Architecture\n",
    "model = Sequential()\n",
    "\n",
    "# model.add(BatchNormalization())\n",
    "model.add(Conv2D(64, (3, 3), padding='same', input_shape=(32, 32, 3)))\n",
    "model.add(Conv2D(64, (3, 3), padding='same'))\n",
    "model.add(Activation('relu'))\n",
    "model.add(MaxPooling2D(pool_size=(2,2)))\n",
    "# model.add(Dropout(0.25))\n",
    "\n",
    "model.add(Conv2D(128, (3, 3), padding='same'))\n",
    "model.add(Conv2D(128, (3, 3), padding='same'))\n",
    "model.add(Activation('relu'))\n",
    "model.add(MaxPooling2D(pool_size=(2,2)))\n",
    "# model.add(Dropout(0.5))\n",
    "\n",
    "model.add(Conv2D(256, (3, 3), padding='same'))\n",
    "model.add(Conv2D(256, (3, 3), padding='same'))\n",
    "model.add(Conv2D(256, (3, 3), padding='same'))\n",
    "model.add(Activation('relu'))\n",
    "model.add(MaxPooling2D(pool_size=(2,2)))\n",
    "# model.add(Dropout(0.5))\n",
    "\n",
    "model.add(Conv2D(512, (3, 3), padding='same'))\n",
    "model.add(Conv2D(512, (3, 3), padding='same'))\n",
    "model.add(Conv2D(512, (3, 3), padding='same'))\n",
    "model.add(Activation('relu'))\n",
    "model.add(MaxPooling2D(pool_size=(2,2)))\n",
    "# model.add(Dropout(0.5))\n",
    "\n",
    "model.add(Conv2D(512, (3, 3), padding='same'))\n",
    "model.add(Conv2D(512, (3, 3), padding='same'))\n",
    "model.add(Conv2D(512, (3, 3), padding='same'))\n",
    "model.add(Activation('relu'))\n",
    "model.add(MaxPooling2D(pool_size=(2,2)))\n",
    "# model.add(Dropout(0.5))\n",
    "\n",
    "model.add(Flatten())\n",
    "model.add(Dense(4096))\n",
    "model.add(Dense(4096))\n",
    "model.add(Activation('relu'))\n",
    "# model.add(Dropout(0.5))\n",
    "\n",
    "model.add(Dense(449, activation='softmax'))\n",
    "opt = optimizers.RMSprop(learning_rate=0.0001)\n",
    "model.compile(optimizer=opt,\n",
    "              loss='categorical_crossentropy',\n",
    "              metrics=['accuracy'])"
   ]
  },
  {
   "cell_type": "code",
   "execution_count": 7,
   "id": "43cb32c8",
   "metadata": {
    "execution": {
     "iopub.execute_input": "2021-10-25T09:58:47.076987Z",
     "iopub.status.busy": "2021-10-25T09:58:47.075175Z",
     "iopub.status.idle": "2021-10-25T09:58:47.088548Z",
     "shell.execute_reply": "2021-10-25T09:58:47.088972Z",
     "shell.execute_reply.started": "2021-10-24T13:06:32.543978Z"
    },
    "papermill": {
     "duration": 0.03276,
     "end_time": "2021-10-25T09:58:47.089100",
     "exception": false,
     "start_time": "2021-10-25T09:58:47.056340",
     "status": "completed"
    },
    "tags": []
   },
   "outputs": [
    {
     "name": "stdout",
     "output_type": "stream",
     "text": [
      "Model: \"sequential\"\n",
      "_________________________________________________________________\n",
      "Layer (type)                 Output Shape              Param #   \n",
      "=================================================================\n",
      "conv2d (Conv2D)              (None, 32, 32, 64)        1792      \n",
      "_________________________________________________________________\n",
      "conv2d_1 (Conv2D)            (None, 32, 32, 64)        36928     \n",
      "_________________________________________________________________\n",
      "activation (Activation)      (None, 32, 32, 64)        0         \n",
      "_________________________________________________________________\n",
      "max_pooling2d (MaxPooling2D) (None, 16, 16, 64)        0         \n",
      "_________________________________________________________________\n",
      "conv2d_2 (Conv2D)            (None, 16, 16, 128)       73856     \n",
      "_________________________________________________________________\n",
      "conv2d_3 (Conv2D)            (None, 16, 16, 128)       147584    \n",
      "_________________________________________________________________\n",
      "activation_1 (Activation)    (None, 16, 16, 128)       0         \n",
      "_________________________________________________________________\n",
      "max_pooling2d_1 (MaxPooling2 (None, 8, 8, 128)         0         \n",
      "_________________________________________________________________\n",
      "conv2d_4 (Conv2D)            (None, 8, 8, 256)         295168    \n",
      "_________________________________________________________________\n",
      "conv2d_5 (Conv2D)            (None, 8, 8, 256)         590080    \n",
      "_________________________________________________________________\n",
      "conv2d_6 (Conv2D)            (None, 8, 8, 256)         590080    \n",
      "_________________________________________________________________\n",
      "activation_2 (Activation)    (None, 8, 8, 256)         0         \n",
      "_________________________________________________________________\n",
      "max_pooling2d_2 (MaxPooling2 (None, 4, 4, 256)         0         \n",
      "_________________________________________________________________\n",
      "conv2d_7 (Conv2D)            (None, 4, 4, 512)         1180160   \n",
      "_________________________________________________________________\n",
      "conv2d_8 (Conv2D)            (None, 4, 4, 512)         2359808   \n",
      "_________________________________________________________________\n",
      "conv2d_9 (Conv2D)            (None, 4, 4, 512)         2359808   \n",
      "_________________________________________________________________\n",
      "activation_3 (Activation)    (None, 4, 4, 512)         0         \n",
      "_________________________________________________________________\n",
      "max_pooling2d_3 (MaxPooling2 (None, 2, 2, 512)         0         \n",
      "_________________________________________________________________\n",
      "conv2d_10 (Conv2D)           (None, 2, 2, 512)         2359808   \n",
      "_________________________________________________________________\n",
      "conv2d_11 (Conv2D)           (None, 2, 2, 512)         2359808   \n",
      "_________________________________________________________________\n",
      "conv2d_12 (Conv2D)           (None, 2, 2, 512)         2359808   \n",
      "_________________________________________________________________\n",
      "activation_4 (Activation)    (None, 2, 2, 512)         0         \n",
      "_________________________________________________________________\n",
      "max_pooling2d_4 (MaxPooling2 (None, 1, 1, 512)         0         \n",
      "_________________________________________________________________\n",
      "flatten (Flatten)            (None, 512)               0         \n",
      "_________________________________________________________________\n",
      "dense (Dense)                (None, 4096)              2101248   \n",
      "_________________________________________________________________\n",
      "dense_1 (Dense)              (None, 4096)              16781312  \n",
      "_________________________________________________________________\n",
      "activation_5 (Activation)    (None, 4096)              0         \n",
      "_________________________________________________________________\n",
      "dense_2 (Dense)              (None, 449)               1839553   \n",
      "=================================================================\n",
      "Total params: 35,436,801\n",
      "Trainable params: 35,436,801\n",
      "Non-trainable params: 0\n",
      "_________________________________________________________________\n"
     ]
    }
   ],
   "source": [
    "model.summary()"
   ]
  },
  {
   "cell_type": "code",
   "execution_count": 8,
   "id": "62da6a52",
   "metadata": {
    "execution": {
     "iopub.execute_input": "2021-10-25T09:58:47.123252Z",
     "iopub.status.busy": "2021-10-25T09:58:47.122724Z",
     "iopub.status.idle": "2021-10-25T10:13:00.258129Z",
     "shell.execute_reply": "2021-10-25T10:13:00.258659Z",
     "shell.execute_reply.started": "2021-10-24T10:06:11.290941Z"
    },
    "papermill": {
     "duration": 853.154947,
     "end_time": "2021-10-25T10:13:00.258824",
     "exception": false,
     "start_time": "2021-10-25T09:58:47.103877",
     "status": "completed"
    },
    "tags": []
   },
   "outputs": [
    {
     "name": "stderr",
     "output_type": "stream",
     "text": [
      "2021-10-25 09:58:49.335934: I tensorflow/compiler/mlir/mlir_graph_optimization_pass.cc:185] None of the MLIR Optimization Passes are enabled (registered 2)\n"
     ]
    },
    {
     "name": "stdout",
     "output_type": "stream",
     "text": [
      "Epoch 1/5\n"
     ]
    },
    {
     "name": "stderr",
     "output_type": "stream",
     "text": [
      "2021-10-25 09:58:53.661896: I tensorflow/stream_executor/cuda/cuda_dnn.cc:369] Loaded cuDNN version 8005\n"
     ]
    },
    {
     "name": "stdout",
     "output_type": "stream",
     "text": [
      "89/89 [==============================] - 247s 3s/step - loss: 3.7385 - accuracy: 0.2813 - val_loss: 3.0985 - val_accuracy: 0.3378\n",
      "Epoch 2/5\n",
      "89/89 [==============================] - 152s 2s/step - loss: 3.0669 - accuracy: 0.3499 - val_loss: 2.8931 - val_accuracy: 0.3819\n",
      "Epoch 3/5\n",
      "89/89 [==============================] - 141s 2s/step - loss: 2.8415 - accuracy: 0.3914 - val_loss: 2.7759 - val_accuracy: 0.4026\n",
      "Epoch 4/5\n",
      "89/89 [==============================] - 125s 1s/step - loss: 2.6998 - accuracy: 0.4192 - val_loss: 2.5711 - val_accuracy: 0.4338\n",
      "Epoch 5/5\n",
      "89/89 [==============================] - 119s 1s/step - loss: 2.5792 - accuracy: 0.4336 - val_loss: 2.5563 - val_accuracy: 0.4460\n"
     ]
    }
   ],
   "source": [
    "STEP_SIZE_TRAIN = train_generator.n//train_generator.batch_size\n",
    "STEP_SIZE_VALID = valid_generator.n//valid_generator.batch_size\n",
    "STEP_SIZE_TEST = test_generator.n//test_generator.batch_size\n",
    "\n",
    "train = model.fit(train_generator,\n",
    "          steps_per_epoch = STEP_SIZE_TRAIN,\n",
    "          validation_data = valid_generator,\n",
    "          validation_steps = STEP_SIZE_VALID,\n",
    "          epochs=5)"
   ]
  },
  {
   "cell_type": "code",
   "execution_count": 9,
   "id": "05b3d88f",
   "metadata": {
    "execution": {
     "iopub.execute_input": "2021-10-25T10:13:00.546941Z",
     "iopub.status.busy": "2021-10-25T10:13:00.533902Z",
     "iopub.status.idle": "2021-10-25T10:13:01.018216Z",
     "shell.execute_reply": "2021-10-25T10:13:01.018609Z",
     "shell.execute_reply.started": "2021-10-24T12:59:34.684681Z"
    },
    "papermill": {
     "duration": 0.630566,
     "end_time": "2021-10-25T10:13:01.018764",
     "exception": false,
     "start_time": "2021-10-25T10:13:00.388198",
     "status": "completed"
    },
    "tags": []
   },
   "outputs": [
    {
     "data": {
      "text/plain": [
       "Text(0, 0.5, 'Accuracy')"
      ]
     },
     "execution_count": 9,
     "metadata": {},
     "output_type": "execute_result"
    },
    {
     "data": {
      "image/png": "[encoded data removed]",
      "text/plain": [
       "<Figure size 432x288 with 1 Axes>"
      ]
     },
     "metadata": {
      "needs_background": "light"
     },
     "output_type": "display_data"
    },
    {
     "data": {
      "image/png": "[encoded data removed]",
      "text/plain": [
       "<Figure size 432x288 with 1 Axes>"
      ]
     },
     "metadata": {
      "needs_background": "light"
     },
     "output_type": "display_data"
    }
   ],
   "source": [
    "plt.figure()\n",
    "plt.plot(train.history['loss'], 'blue')\n",
    "plt.plot(train.history['val_loss'], 'red')\n",
    "plt.legend(['Training Loss', 'Validation Loss'])\n",
    "plt.xlabel('Epochs')\n",
    "plt.ylabel('Loss')\n",
    "\n",
    "plt.figure()\n",
    "plt.plot(train.history['accuracy'], 'blue')\n",
    "plt.plot(train.history['val_accuracy'], 'red')\n",
    "plt.legend(['Training Accuracy', 'Validation Accuracy'])\n",
    "plt.xlabel('Epochs')\n",
    "plt.ylabel('Accuracy')"
   ]
  },
  {
   "cell_type": "code",
   "execution_count": 10,
   "id": "851a0f76",
   "metadata": {
    "execution": {
     "iopub.execute_input": "2021-10-25T10:13:01.292780Z",
     "iopub.status.busy": "2021-10-25T10:13:01.291988Z",
     "iopub.status.idle": "2021-10-25T10:13:43.258628Z",
     "shell.execute_reply": "2021-10-25T10:13:43.259785Z",
     "shell.execute_reply.started": "2021-10-24T13:00:04.578908Z"
    },
    "papermill": {
     "duration": 42.104528,
     "end_time": "2021-10-25T10:13:43.260562",
     "exception": false,
     "start_time": "2021-10-25T10:13:01.156034",
     "status": "completed"
    },
    "tags": []
   },
   "outputs": [
    {
     "name": "stdout",
     "output_type": "stream",
     "text": [
      "119/119 [==============================] - 30s 246ms/step - loss: 2.5592 - accuracy: 0.4452\n"
     ]
    },
    {
     "data": {
      "text/plain": [
       "[2.5591933727264404, 0.4452020823955536]"
      ]
     },
     "execution_count": 10,
     "metadata": {},
     "output_type": "execute_result"
    }
   ],
   "source": [
    "model.evaluate(valid_generator, steps=STEP_SIZE_TEST)"
   ]
  },
  {
   "cell_type": "markdown",
   "id": "592bb513",
   "metadata": {
    "papermill": {
     "duration": 0.228126,
     "end_time": "2021-10-25T10:13:43.733295",
     "exception": false,
     "start_time": "2021-10-25T10:13:43.505169",
     "status": "completed"
    },
    "tags": []
   },
   "source": [
    "#### making predictions"
   ]
  },
  {
   "cell_type": "code",
   "execution_count": 11,
   "id": "a60b70d5",
   "metadata": {
    "execution": {
     "iopub.execute_input": "2021-10-25T10:13:44.034257Z",
     "iopub.status.busy": "2021-10-25T10:13:44.033629Z",
     "iopub.status.idle": "2021-10-25T10:17:49.598259Z",
     "shell.execute_reply": "2021-10-25T10:17:49.597775Z",
     "shell.execute_reply.started": "2021-10-24T13:03:19.132217Z"
    },
    "papermill": {
     "duration": 245.7093,
     "end_time": "2021-10-25T10:17:49.598399",
     "exception": false,
     "start_time": "2021-10-25T10:13:43.889099",
     "status": "completed"
    },
    "tags": []
   },
   "outputs": [
    {
     "name": "stdout",
     "output_type": "stream",
     "text": [
      "119/119 [==============================] - 242s 2s/step\n"
     ]
    }
   ],
   "source": [
    "test_generator.reset()\n",
    "pred = model.predict(test_generator, steps=STEP_SIZE_TEST, verbose=1)"
   ]
  },
  {
   "cell_type": "code",
   "execution_count": 12,
   "id": "74987410",
   "metadata": {
    "execution": {
     "iopub.execute_input": "2021-10-25T10:17:49.954075Z",
     "iopub.status.busy": "2021-10-25T10:17:49.953140Z",
     "iopub.status.idle": "2021-10-25T10:19:49.859508Z",
     "shell.execute_reply": "2021-10-25T10:19:49.859929Z",
     "shell.execute_reply.started": "2021-10-24T13:01:45.099268Z"
    },
    "papermill": {
     "duration": 120.08169,
     "end_time": "2021-10-25T10:19:49.860102",
     "exception": false,
     "start_time": "2021-10-25T10:17:49.778412",
     "status": "completed"
    },
    "tags": []
   },
   "outputs": [
    {
     "name": "stdout",
     "output_type": "stream",
     "text": [
      "119/119 [==============================] - 118s 990ms/step\n"
     ]
    }
   ],
   "source": [
    "test_generator2.reset()\n",
    "pred2 = model.predict(test_generator2, steps=STEP_SIZE_TEST, verbose=1)"
   ]
  },
  {
   "cell_type": "markdown",
   "id": "e5be537c",
   "metadata": {
    "papermill": {
     "duration": 0.187306,
     "end_time": "2021-10-25T10:19:50.237049",
     "exception": false,
     "start_time": "2021-10-25T10:19:50.049743",
     "status": "completed"
    },
    "tags": []
   },
   "source": [
    "##### mapping the predicted class indices/labels with the filenames"
   ]
  },
  {
   "cell_type": "code",
   "execution_count": 13,
   "id": "59d6f228",
   "metadata": {
    "execution": {
     "iopub.execute_input": "2021-10-25T10:19:50.612848Z",
     "iopub.status.busy": "2021-10-25T10:19:50.612079Z",
     "iopub.status.idle": "2021-10-25T10:19:50.671877Z",
     "shell.execute_reply": "2021-10-25T10:19:50.671456Z",
     "shell.execute_reply.started": "2021-10-24T13:07:11.231218Z"
    },
    "papermill": {
     "duration": 0.250152,
     "end_time": "2021-10-25T10:19:50.671995",
     "exception": false,
     "start_time": "2021-10-25T10:19:50.421843",
     "status": "completed"
    },
    "tags": []
   },
   "outputs": [],
   "source": [
    "predicted_class_indices = np.argmax(pred, axis=1)\n",
    "predicted_class_indices2 = np.argmax(pred2, axis=1)\n",
    "\n",
    "labels = (train_generator.class_indices)\n",
    "labels = dict((v, k) for k, v in labels.items())\n",
    "predictions = [labels[k] for k in predicted_class_indices]\n",
    "\n",
    "filenames = test_generator.filenames\n",
    "predict = pd.DataFrame(predictions, columns=['tags'])\n",
    "filename = pd.DataFrame(filenames, columns=['image_name'])[:40460]"
   ]
  },
  {
   "cell_type": "code",
   "execution_count": 14,
   "id": "03e018e1",
   "metadata": {
    "execution": {
     "iopub.execute_input": "2021-10-25T10:19:51.067081Z",
     "iopub.status.busy": "2021-10-25T10:19:51.061120Z",
     "iopub.status.idle": "2021-10-25T10:19:51.072589Z",
     "shell.execute_reply": "2021-10-25T10:19:51.072140Z",
     "shell.execute_reply.started": "2021-10-24T13:10:11.055294Z"
    },
    "papermill": {
     "duration": 0.215881,
     "end_time": "2021-10-25T10:19:51.072703",
     "exception": false,
     "start_time": "2021-10-25T10:19:50.856822",
     "status": "completed"
    },
    "tags": []
   },
   "outputs": [],
   "source": [
    "labels2 = (train_generator.class_indices)\n",
    "labels2 = dict((v, k) for k, v in labels2.items())\n",
    "predictions2 = [labels2[k] for k in predicted_class_indices2]\n",
    "\n",
    "filenames = test_generator2.filenames\n",
    "predict2 = pd.DataFrame(predictions2, columns=['tags'])\n",
    "filename2 = pd.DataFrame(filenames, columns=['image_name'])\n",
    "\n",
    "# saving predictions to csv file\n",
    "results = pd.concat([filename, predict], axis=1)\n",
    "results2 = pd.concat([filename2, predict2], axis=1)\n",
    "final_result = pd.concat([results, results2])"
   ]
  },
  {
   "cell_type": "code",
   "execution_count": 15,
   "id": "a789dda7",
   "metadata": {
    "execution": {
     "iopub.execute_input": "2021-10-25T10:19:51.445174Z",
     "iopub.status.busy": "2021-10-25T10:19:51.444652Z",
     "iopub.status.idle": "2021-10-25T10:19:51.604600Z",
     "shell.execute_reply": "2021-10-25T10:19:51.605184Z",
     "shell.execute_reply.started": "2021-10-24T13:23:47.285722Z"
    },
    "papermill": {
     "duration": 0.348141,
     "end_time": "2021-10-25T10:19:51.605398",
     "exception": false,
     "start_time": "2021-10-25T10:19:51.257257",
     "status": "completed"
    },
    "tags": []
   },
   "outputs": [],
   "source": [
    "final_result\n",
    "final_result.to_csv(\"./final-results.csv\", index=False)"
   ]
  }
 ],
 "metadata": {
  "kernelspec": {
   "display_name": "Python 3 (ipykernel)",
   "language": "python",
   "name": "python3"
  },
  "language_info": {
   "codemirror_mode": {
    "name": "ipython",
    "version": 3
   },
   "file_extension": ".py",
   "mimetype": "text/x-python",
   "name": "python",
   "nbconvert_exporter": "python",
   "pygments_lexer": "ipython3",
   "version": "3.9.12"
  },
  "papermill": {
   "default_parameters": {},
   "duration": 1569.88073,
   "end_time": "2021-10-25T10:19:54.998449",
   "environment_variables": {},
   "exception": null,
   "input_path": "__notebook__.ipynb",
   "output_path": "__notebook__.ipynb",
   "parameters": {},
   "start_time": "2021-10-25T09:53:45.117719",
   "version": "2.3.3"
  }
 },
 "nbformat": 4,
 "nbformat_minor": 5
}
